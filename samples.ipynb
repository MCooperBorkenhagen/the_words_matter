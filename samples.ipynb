{
 "cells": [
  {
   "cell_type": "code",
   "execution_count": 39,
   "metadata": {},
   "outputs": [],
   "source": [
    "import numpy as np\n",
    "import pandas as pd\n",
    "np.random.seed(764)\n",
    "\n",
    "words = pd.read_csv('data/kidwords/kidwords.csv', header=None)[0].tolist()"
   ]
  },
  {
   "cell_type": "code",
   "execution_count": 40,
   "metadata": {},
   "outputs": [],
   "source": [
    "number_of_words = len(words)\n",
    "number_of_samples = 10000 # number of iterations for brute force\n",
    "\n",
    "samples = np.zeros((number_of_words, number_of_samples), dtype = bool)\n",
    "holdouts = np.zeros((number_of_words, number_of_samples), dtype = bool)\n",
    "tests = np.zeros((number_of_words, number_of_samples), dtype = bool)"
   ]
  },
  {
   "cell_type": "code",
   "execution_count": 41,
   "metadata": {},
   "outputs": [],
   "source": [
    "# Randomly select two indices from axis 0\n",
    "N = 300\n",
    "holdout = np.random.choice(samples.shape[0], N, replace=False)\n",
    "\n",
    "for i in range(samples.shape[1]):\n",
    "    # Randomly select three more indices for each element of axis 1, ensuring they're unique and not in random_indices_fixed\n",
    "    train = np.random.choice([x for x in range(samples.shape[0]) if x not in holdout], N, replace=False)\n",
    "    test = [x for x in range(samples.shape[0]) if x not in train and x not in holdout]\n",
    "    # Set the 5 randomly selected indices as True\n",
    "    samples[train, i] = True\n",
    "    holdouts[holdout, i] = True\n",
    "    tests[test, i] = True"
   ]
  },
  {
   "cell_type": "code",
   "execution_count": 58,
   "metadata": {},
   "outputs": [],
   "source": [
    "np.savetxt('data/samples.csv', samples.astype(int), delimiter=',', fmt='%d')\n",
    "np.savetxt('data/holdouts.csv', holdouts.astype(int), delimiter=',', fmt='%d')\n",
    "np.savetxt('data/tests.csv', tests.astype(int), delimiter=',', fmt='%d')"
   ]
  }
 ],
 "metadata": {
  "kernelspec": {
   "display_name": "Python 3",
   "language": "python",
   "name": "python3"
  },
  "language_info": {
   "codemirror_mode": {
    "name": "ipython",
    "version": 3
   },
   "file_extension": ".py",
   "mimetype": "text/x-python",
   "name": "python",
   "nbconvert_exporter": "python",
   "pygments_lexer": "ipython3",
   "version": "3.10.12"
  }
 },
 "nbformat": 4,
 "nbformat_minor": 2
}
