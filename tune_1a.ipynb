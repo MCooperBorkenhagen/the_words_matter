{
 "cells": [
  {
   "cell_type": "code",
   "execution_count": 1,
   "metadata": {},
   "outputs": [
    {
     "name": "stderr",
     "output_type": "stream",
     "text": [
      "2024-02-13 13:00:16.236180: I tensorflow/core/util/port.cc:110] oneDNN custom operations are on. You may see slightly different numerical results due to floating-point round-off errors from different computation orders. To turn them off, set the environment variable `TF_ENABLE_ONEDNN_OPTS=0`.\n",
      "2024-02-13 13:00:16.267076: I tensorflow/core/platform/cpu_feature_guard.cc:182] This TensorFlow binary is optimized to use available CPU instructions in performance-critical operations.\n",
      "To enable the following instructions: AVX_VNNI, in other operations, rebuild TensorFlow with the appropriate compiler flags.\n"
     ]
    }
   ],
   "source": [
    "from src.learner import *\n",
    "import time\n",
    "\n",
    "from utilities import remove_cols\n"
   ]
  },
  {
   "cell_type": "code",
   "execution_count": 2,
   "metadata": {},
   "outputs": [],
   "source": [
    "# inputs and outputs\n",
    "X = remove_cols(np.genfromtxt('data/orth.csv', delimiter=\",\"))\n",
    "Y = remove_cols(np.genfromtxt('data/phon.csv', delimiter=\",\"))"
   ]
  },
  {
   "cell_type": "markdown",
   "metadata": {},
   "source": [
    "For tuning we will use a random sample of the same size that our samples will eventually be. This involves allocating 600 words for test, and the rest for train - but not using our pre-allocated samples for the purpose."
   ]
  },
  {
   "cell_type": "code",
   "execution_count": 3,
   "metadata": {},
   "outputs": [],
   "source": [
    "np.random.seed(982)\n",
    "\n",
    "target_train_size = 300\n",
    "\n",
    "train_n = X.shape[0]\n",
    "test_n = train_n-target_train_size\n",
    "\n",
    "sample = np.full(train_n, True, dtype=bool)\n",
    "\n",
    "indices = np.random.choice(train_n, test_n, replace=False)\n",
    "\n",
    "# Set chosen indices to True because they select the test items not the train items\n",
    "sample[indices] = False"
   ]
  },
  {
   "cell_type": "markdown",
   "metadata": {},
   "source": [
    "Limited search across HPs..."
   ]
  },
  {
   "cell_type": "code",
   "execution_count": null,
   "metadata": {},
   "outputs": [],
   "source": [
    "seed = 387\n",
    "\n",
    "with open('outputs/tune_1a.csv', 'w') as f:\n",
    "    f.write(\"{},{},{},{},{},{},{},{},{},{},{},{},{}\\n\".format(\n",
    "                                            \"hidden_units\",\n",
    "                                            \"learning_rate\",\n",
    "                                             \"batch_size\",\n",
    "                                             \"epochs\",\n",
    "                                             \"loss_train\",\n",
    "                                             \"accuracy_train\",\n",
    "                                             \"accuracy_default_train\",\n",
    "                                             \"mse_train\",\n",
    "                                             \"loss_test\",\n",
    "                                             \"accuracy_test\",\n",
    "                                             \"accuracy_default_test\",\n",
    "                                             \"mse_test\",\n",
    "                                             \"time\"))\n",
    "    for learning_rate in [.075, .2]: \n",
    "        for batch_size in [64, 128]:\n",
    "            for epochs in [50, 100, 150]:\n",
    "                for hidden in [80, 100, 120]:\n",
    "                    model = learner(X, Y, seed, learning_rate, hidden)\n",
    "                    \n",
    "                    start_time = time.time()\n",
    "\n",
    "\n",
    "                    model.fit(X[sample], Y[sample], epochs=epochs, batch_size=batch_size, verbose=False)\n",
    "\n",
    "                    end_time = time.time()\n",
    "                    runtime = end_time - start_time\n",
    "\n",
    "                    loss_train, accuracy_train, accuracy_default_train, mse_train = model.evaluate(X[sample], Y[sample], verbose=0) \n",
    "                    loss_test, accuracy_test, accuracy_default_test, mse_test = model.evaluate(X[~sample], Y[~sample], verbose=0) \n",
    "\n",
    "                    f.write(\"{},{},{},{},{},{},{},{},{},{},{},{},{}\\n\".format(\n",
    "                                                    hidden,\n",
    "                                                    learning_rate,\n",
    "                                                    batch_size,\n",
    "                                                    epochs,\n",
    "                                                    loss_train,\n",
    "                                                    accuracy_train,\n",
    "                                                    accuracy_default_train,\n",
    "                                                    mse_train,\n",
    "                                                    loss_test,\n",
    "                                                    accuracy_test,\n",
    "                                                    accuracy_default_test,\n",
    "                                                    mse_test,\n",
    "                                                    runtime))\n",
    "f.close()"
   ]
  },
  {
   "cell_type": "code",
   "execution_count": 4,
   "metadata": {},
   "outputs": [],
   "source": [
    "hidden = 100\n",
    "learning_rate = 0.075\n",
    "batch_size = 128\n",
    "epochs = 50"
   ]
  },
  {
   "cell_type": "markdown",
   "metadata": {},
   "source": [
    "Let's check out item-level performance on the sample for the following configuration:\n",
    "\n",
    "hidden = 100\n",
    "learning_rate = 0.075\n",
    "batch_size = 128\n",
    "epochs = 50\n",
    "train_accuracy = 0.990\n",
    "test_accuracy = 0.961\n",
    "time = 0.609"
   ]
  },
  {
   "cell_type": "code",
   "execution_count": null,
   "metadata": {},
   "outputs": [],
   "source": [
    "seed = 387\n",
    "\n",
    "model = learner(X, Y, seed, learning_rate, hidden)                    \n",
    "model.fit(X[sample], Y[sample], epochs=epochs, batch_size=batch_size, verbose=False)"
   ]
  },
  {
   "cell_type": "markdown",
   "metadata": {},
   "source": [
    "Even here, only about half of the words are perfectly correct. Let's search out further..."
   ]
  },
  {
   "cell_type": "code",
   "execution_count": null,
   "metadata": {},
   "outputs": [],
   "source": [
    "seed = 387\n",
    "\n",
    "with open('outputs/tune_1b.csv', 'w') as f:\n",
    "    f.write(\"{},{},{},{},{},{},{},{},{},{},{},{},{}\\n\".format(\n",
    "                                            \"hidden_units\",\n",
    "                                            \"learning_rate\",\n",
    "                                             \"batch_size\",\n",
    "                                             \"epochs\",\n",
    "                                             \"loss_train\",\n",
    "                                             \"accuracy_train\",\n",
    "                                             \"accuracy_default_train\",\n",
    "                                             \"mse_train\",\n",
    "                                             \"loss_test\",\n",
    "                                             \"accuracy_test\",\n",
    "                                             \"accuracy_default_test\",\n",
    "                                             \"mse_test\",\n",
    "                                             \"time\"))\n",
    "    for learning_rate in [.2, .25]: \n",
    "        for batch_size in [64, 128]:\n",
    "            for epochs in [50, 100, 150, 250, 500]:\n",
    "                for hidden in [100, 150, 200]:\n",
    "                    model = learner(X, Y, seed, learning_rate, hidden)\n",
    "                    \n",
    "                    start_time = time.time()\n",
    "\n",
    "\n",
    "                    model.fit(X[sample], Y[sample], epochs=epochs, batch_size=batch_size, verbose=False)\n",
    "\n",
    "                    end_time = time.time()\n",
    "                    runtime = end_time - start_time\n",
    "\n",
    "                    loss_train, accuracy_train, accuracy_default_train, mse_train = model.evaluate(X[sample], Y[sample], verbose=0) \n",
    "                    loss_test, accuracy_test, accuracy_default_test, mse_test = model.evaluate(X[~sample], Y[~sample], verbose=0) \n",
    "\n",
    "                    f.write(\"{},{},{},{},{},{},{},{},{},{},{},{},{}\\n\".format(\n",
    "                                                    hidden,\n",
    "                                                    learning_rate,\n",
    "                                                    batch_size,\n",
    "                                                    epochs,\n",
    "                                                    loss_train,\n",
    "                                                    accuracy_train,\n",
    "                                                    accuracy_default_train,\n",
    "                                                    mse_train,\n",
    "                                                    loss_test,\n",
    "                                                    accuracy_test,\n",
    "                                                    accuracy_default_test,\n",
    "                                                    mse_test,\n",
    "                                                    runtime))\n",
    "f.close()"
   ]
  },
  {
   "cell_type": "code",
   "execution_count": null,
   "metadata": {},
   "outputs": [],
   "source": []
  },
  {
   "cell_type": "markdown",
   "metadata": {},
   "source": [
    "Considering also the amount of compute time needed in order to learn, let's go with a learning rate of  , a batch size of  , and epochs. The train and test accuracies for this model are  and respectively. This will allow us to generate many models quickly. First, we will look around those hyperparameter spaces a bit more finely to see if we can push the accuracy a bit further."
   ]
  }
 ],
 "metadata": {
  "kernelspec": {
   "display_name": "python38_env",
   "language": "python",
   "name": "python3"
  },
  "language_info": {
   "codemirror_mode": {
    "name": "ipython",
    "version": 3
   },
   "file_extension": ".py",
   "mimetype": "text/x-python",
   "name": "python",
   "nbconvert_exporter": "python",
   "pygments_lexer": "ipython3",
   "version": "3.10.12"
  }
 },
 "nbformat": 4,
 "nbformat_minor": 2
}
