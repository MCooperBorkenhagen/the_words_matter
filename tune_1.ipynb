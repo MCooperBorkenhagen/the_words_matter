{
 "cells": [
  {
   "cell_type": "code",
   "execution_count": 1,
   "metadata": {},
   "outputs": [
    {
     "name": "stderr",
     "output_type": "stream",
     "text": [
      "2024-02-11 15:37:54.261577: I tensorflow/core/util/port.cc:110] oneDNN custom operations are on. You may see slightly different numerical results due to floating-point round-off errors from different computation orders. To turn them off, set the environment variable `TF_ENABLE_ONEDNN_OPTS=0`.\n",
      "2024-02-11 15:37:54.289836: I tensorflow/core/platform/cpu_feature_guard.cc:182] This TensorFlow binary is optimized to use available CPU instructions in performance-critical operations.\n",
      "To enable the following instructions: AVX_VNNI, in other operations, rebuild TensorFlow with the appropriate compiler flags.\n"
     ]
    }
   ],
   "source": [
    "from keras.models import Sequential\n",
    "from keras.layers import Dense\n",
    "from keras.optimizers import Adam\n",
    "import numpy as np\n",
    "\n",
    "from utilities import remove_cols"
   ]
  },
  {
   "cell_type": "code",
   "execution_count": 2,
   "metadata": {},
   "outputs": [],
   "source": [
    "# inputs and outputs\n",
    "X = remove_cols(np.genfromtxt('data/orth.csv', delimiter=\",\"))\n",
    "Y = remove_cols(np.genfromtxt('data/phon.csv', delimiter=\",\"))"
   ]
  },
  {
   "cell_type": "markdown",
   "metadata": {},
   "source": [
    "For tuning we will use a random sample of the same size that our samples will eventually be. This involves allocating 600 words for test, and the rest for train - but not using our pre-allocated samples for the purpose."
   ]
  },
  {
   "cell_type": "code",
   "execution_count": 3,
   "metadata": {},
   "outputs": [],
   "source": [
    "np.random.seed(982)\n",
    "\n",
    "train_n = X.shape[0]\n",
    "test_n = train_n-600\n",
    "\n",
    "sample = np.full(train_n, False, dtype=bool)\n",
    "\n",
    "indices = np.random.choice(train_n, test_n, replace=False)\n",
    "\n",
    "# Set chosen indices to True\n",
    "sample[indices] = True"
   ]
  },
  {
   "cell_type": "code",
   "execution_count": 134,
   "metadata": {},
   "outputs": [],
   "source": [
    "hidden = 100\n",
    "seed = 387\n",
    "import time\n",
    "\n",
    "def learner(seed, learning_rate, hidden):\n",
    "    np.random.seed(seed)\n",
    "\n",
    "    optimizer = Adam(learning_rate=learning_rate)\n",
    "\n",
    "    model = Sequential()\n",
    "    model.add(Dense(hidden, input_shape=(X.shape[1],)))\n",
    "    model.add(Dense(Y.shape[1], activation='sigmoid'))\n",
    "    model.compile(optimizer=optimizer, loss='binary_crossentropy', metrics=['accuracy', 'binary_crossentropy', 'mse'])\n",
    "    \n",
    "    return model\n",
    "\n",
    "with open('outputs/tune_1.csv', 'w') as f:\n",
    "    f.write(\"{},{},{},{},{},{},{},{},{},{}\\n\".format(\"learning_rate\",\n",
    "                                             \"batch_size\",\n",
    "                                             \"epochs\",\n",
    "                                             \"loss_train\",\n",
    "                                             \"accuracy_train\",\n",
    "                                             \"mse_train\",\n",
    "                                             \"loss_test\",\n",
    "                                             \"accuracy_test\",\n",
    "                                             \"mse_test\",\n",
    "                                             \"time\"))\n",
    "    for learning_rate in [.075, .1, .125, .15, .175, .2, .225, .25]: \n",
    "        for batch_size in [32, 64, 128, 256]:\n",
    "            for epochs in [100, 150, 200, 250, 500, 1000]:\n",
    "                model = learner(seed, learning_rate, hidden)\n",
    "                \n",
    "                start_time = time.time()\n",
    "\n",
    "\n",
    "                model.fit(X[sample], Y[sample], epochs=epochs, batch_size=batch_size, verbose=False)\n",
    "\n",
    "                end_time = time.time()\n",
    "                runtime = end_time - start_time\n",
    "\n",
    "                loss_train, accuracy_train, __, mse_train = model.evaluate(X[sample], Y[sample], verbose=0) # loss is duplicated so the 2nd value is set to __\n",
    "                loss_test, accuracy_test, __, mse_test = model.evaluate(X[~sample], Y[~sample], verbose=0) # loss is duplicated so the 2nd value is set to __\n",
    "\n",
    "                f.write(\"{},{},{},{},{},{},{},{},{},{}\\n\".format(learning_rate,\n",
    "                                                batch_size,\n",
    "                                                epochs,\n",
    "                                                loss_train,\n",
    "                                                accuracy_train,\n",
    "                                                mse_train,\n",
    "                                                loss_test,\n",
    "                                                accuracy_test,\n",
    "                                                mse_test,\n",
    "                                                runtime))\n",
    "f.close()"
   ]
  }
 ],
 "metadata": {
  "kernelspec": {
   "display_name": "python38_env",
   "language": "python",
   "name": "python3"
  },
  "language_info": {
   "codemirror_mode": {
    "name": "ipython",
    "version": 3
   },
   "file_extension": ".py",
   "mimetype": "text/x-python",
   "name": "python",
   "nbconvert_exporter": "python",
   "pygments_lexer": "ipython3",
   "version": "3.10.12"
  }
 },
 "nbformat": 4,
 "nbformat_minor": 2
}
