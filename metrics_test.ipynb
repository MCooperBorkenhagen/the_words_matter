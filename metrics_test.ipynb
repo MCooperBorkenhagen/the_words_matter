{
 "cells": [
  {
   "cell_type": "code",
   "execution_count": 1,
   "metadata": {},
   "outputs": [
    {
     "ename": "ModuleNotFoundError",
     "evalue": "No module named 'src'",
     "output_type": "error",
     "traceback": [
      "\u001b[0;31m---------------------------------------------------------------------------\u001b[0m",
      "\u001b[0;31mModuleNotFoundError\u001b[0m                       Traceback (most recent call last)",
      "\u001b[0;32m/tmp/ipykernel_42543/1458394275.py\u001b[0m in \u001b[0;36m<module>\u001b[0;34m\u001b[0m\n\u001b[0;32m----> 1\u001b[0;31m \u001b[0;32mfrom\u001b[0m \u001b[0msrc\u001b[0m\u001b[0;34m.\u001b[0m\u001b[0mlearner\u001b[0m \u001b[0;32mimport\u001b[0m \u001b[0;34m*\u001b[0m\u001b[0;34m\u001b[0m\u001b[0;34m\u001b[0m\u001b[0m\n\u001b[0m\u001b[1;32m      2\u001b[0m \u001b[0;32mimport\u001b[0m \u001b[0mtime\u001b[0m\u001b[0;34m\u001b[0m\u001b[0;34m\u001b[0m\u001b[0m\n\u001b[1;32m      3\u001b[0m \u001b[0;32mimport\u001b[0m \u001b[0mpandas\u001b[0m \u001b[0;32mas\u001b[0m \u001b[0mpd\u001b[0m\u001b[0;34m\u001b[0m\u001b[0;34m\u001b[0m\u001b[0m\n\u001b[1;32m      4\u001b[0m \u001b[0;34m\u001b[0m\u001b[0m\n\u001b[1;32m      5\u001b[0m \u001b[0;32mfrom\u001b[0m \u001b[0mutilities\u001b[0m \u001b[0;32mimport\u001b[0m \u001b[0mremove_cols\u001b[0m\u001b[0;34m\u001b[0m\u001b[0;34m\u001b[0m\u001b[0m\n",
      "\u001b[0;31mModuleNotFoundError\u001b[0m: No module named 'src'"
     ]
    }
   ],
   "source": [
    "from src.learner import *\n",
    "import time\n",
    "import pandas as pd\n",
    "\n",
    "from utilities import remove_cols\n",
    "\n",
    "words = pd.read_csv('data/words.csv', header=None)\n",
    "words = words[0].tolist()\n",
    "\n",
    "# inputs and outputs\n",
    "X = remove_cols(np.genfromtxt('data/orth.csv', delimiter=\",\"))\n",
    "Y = remove_cols(np.genfromtxt('data/phon.csv', delimiter=\",\"))\n",
    "\n",
    "\n",
    "# set seed\n",
    "np.random.seed(982)\n",
    "\n",
    "target_train_size = 300\n",
    "train_n = X.shape[0]\n",
    "test_n = train_n-target_train_size\n",
    "sample = np.full(train_n, True, dtype=bool)\n",
    "indices = np.random.choice(train_n, test_n, replace=False)\n",
    "# Set chosen indices to True because they select the test items not the train items\n",
    "sample[indices] = False"
   ]
  },
  {
   "cell_type": "markdown",
   "metadata": {},
   "source": [
    "Test all the metrics that will actually run, and compare."
   ]
  },
  {
   "cell_type": "code",
   "execution_count": null,
   "metadata": {},
   "outputs": [],
   "source": [
    "seed = 387\n",
    "hidden = 100\n",
    "keras.utils.set_random_seed(seed)\n",
    "\n",
    "model = Sequential()\n",
    "model.add(Dense(hidden, input_shape=(X.shape[1],)))\n",
    "model.add(Dense(Y.shape[1], activation='sigmoid'))\n",
    "\n",
    "\n",
    "other_accuracy = keras.metrics.Accuracy(name = \"other_accuracy\")\n",
    "\n",
    "metrics = ['accuracy', \n",
    "           other_accuracy,\n",
    "           'binary_accuracy',\n",
    "           keras.metrics.CategoricalAccuracy(name=\"categorical_accuracy\", dtype=None),\n",
    "           keras.metrics.TopKCategoricalAccuracy(k=5, name=\"top_k_categorical_accuracy\", dtype=None),\n",
    "           'mse']\n",
    "\n",
    "model.compile(optimizer=Adam(learning_rate=.1), loss='binary_crossentropy', metrics=metrics)\n",
    "start_time = time.time()  \n",
    "model.fit(X[sample], Y[sample], epochs=5, batch_size=32, verbose=True)\n",
    "end_time = time.time()\n",
    "print(end_time-start_time)\n",
    "\n",
    "model.evaluate(X[sample], Y[sample])"
   ]
  },
  {
   "cell_type": "markdown",
   "metadata": {},
   "source": [
    "The default accuracy for this model configuration in `keras` ends up being `categorical_accuracy` (because it matches `accuracy`)"
   ]
  }
 ],
 "metadata": {
  "kernelspec": {
   "display_name": "Python 3",
   "language": "python",
   "name": "python3"
  },
  "language_info": {
   "codemirror_mode": {
    "name": "ipython",
    "version": 3
   },
   "file_extension": ".py",
   "mimetype": "text/x-python",
   "name": "python",
   "nbconvert_exporter": "python",
   "pygments_lexer": "ipython3",
   "version": "3.10.12"
  }
 },
 "nbformat": 4,
 "nbformat_minor": 2
}
