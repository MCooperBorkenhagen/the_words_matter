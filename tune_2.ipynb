{
 "cells": [
  {
   "cell_type": "code",
   "execution_count": 5,
   "metadata": {},
   "outputs": [],
   "source": [
    "from keras.models import Sequential\n",
    "from keras.layers import Dense\n",
    "from keras.optimizers import Adam\n",
    "import numpy as np\n",
    "from utilities import remove_cols\n",
    "\n",
    "samples = np.genfromtxt('data/samples.csv', delimiter=\",\")"
   ]
  },
  {
   "cell_type": "code",
   "execution_count": 7,
   "metadata": {},
   "outputs": [],
   "source": [
    "\n",
    "\n",
    "# inputs and outputs\n",
    "X = remove_cols(np.genfromtxt('data/orth.csv', delimiter=\",\"))\n",
    "Y = remove_cols(np.genfromtxt('data/phon.csv', delimiter=\",\"))\n",
    "\n"
   ]
  },
  {
   "cell_type": "markdown",
   "metadata": {},
   "source": [
    "From `tune_1` we saw that a configuration with learning rate of .25, batch size of 64, and number of epochs of 100 produced good train (.978) and test (.965) accuracy despite a short training time. Let's search around those parameters to see if we can push a little closer to 1."
   ]
  },
  {
   "cell_type": "code",
   "execution_count": 134,
   "metadata": {},
   "outputs": [],
   "source": [
    "\n",
    "hidden = 100\n",
    "seed = 387\n",
    "import time\n",
    "\n",
    "def learner(seed, learning_rate, hidden):\n",
    "    np.random.seed(seed)\n",
    "\n",
    "    optimizer = Adam(learning_rate=learning_rate) # was originally .1\n",
    "\n",
    "    model = Sequential()\n",
    "    model.add(Dense(hidden, input_shape=(X.shape[1],)))\n",
    "    model.add(Dense(Y.shape[1], activation='sigmoid'))\n",
    "    model.compile(optimizer=optimizer, loss='binary_crossentropy', metrics=['accuracy', 'binary_crossentropy', 'mse'])\n",
    "    \n",
    "    return model\n",
    "\n",
    "with open('outputs/tune_2.csv', 'w') as f:\n",
    "    f.write(\"{},{},{},{},{},{},{},{},{},{}\\n\".format(\"learning_rate\",\n",
    "                                             \"batch_size\",\n",
    "                                             \"epochs\",\n",
    "                                             \"loss_train\",\n",
    "                                             \"accuracy_train\",\n",
    "                                             \"mse_train\",\n",
    "                                             \"loss_test\",\n",
    "                                             \"accuracy_test\",\n",
    "                                             \"mse_test\",\n",
    "                                             \"time\"))\n",
    "    for learning_rate in [.19, .20, .21, .22, .23, .24, .25]: \n",
    "        for batch_size in [32, 48, 64, 80, 96]:\n",
    "            for epochs in [100, 125, 150, 175, 200, 225]:\n",
    "                model = learner(seed, learning_rate, hidden)\n",
    "                \n",
    "                start_time = time.time()\n",
    "\n",
    "\n",
    "                model.fit(X[sample], Y[sample], epochs=epochs, batch_size=batch_size, verbose=False)\n",
    "\n",
    "                end_time = time.time()\n",
    "                runtime = end_time - start_time\n",
    "\n",
    "                loss_train, accuracy_train, __, mse_train = model.evaluate(X[sample], Y[sample], verbose=0) # loss is duplicated so the 2nd value is set to __\n",
    "                loss_test, accuracy_test, __, mse_test = model.evaluate(X[~sample], Y[~sample], verbose=0) # loss is duplicated so the 2nd value is set to __\n",
    "\n",
    "                f.write(\"{},{},{},{},{},{},{},{},{},{}\\n\".format(learning_rate,\n",
    "                                                batch_size,\n",
    "                                                epochs,\n",
    "                                                loss_train,\n",
    "                                                accuracy_train,\n",
    "                                                mse_train,\n",
    "                                                loss_test,\n",
    "                                                accuracy_test,\n",
    "                                                mse_test,\n",
    "                                                runtime))\n",
    "f.close()"
   ]
  }
 ],
 "metadata": {
  "kernelspec": {
   "display_name": "python38_env",
   "language": "python",
   "name": "python3"
  },
  "language_info": {
   "codemirror_mode": {
    "name": "ipython",
    "version": 3
   },
   "file_extension": ".py",
   "mimetype": "text/x-python",
   "name": "python",
   "nbconvert_exporter": "python",
   "pygments_lexer": "ipython3",
   "version": "3.10.12"
  }
 },
 "nbformat": 4,
 "nbformat_minor": 2
}
