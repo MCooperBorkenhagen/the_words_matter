{
 "cells": [
  {
   "cell_type": "code",
   "execution_count": null,
   "metadata": {},
   "outputs": [],
   "source": [
    "from src.learner import *\n",
    "import time\n",
    "import pandas as pd\n",
    "from utilities import remove_cols\n",
    "\n",
    "# the words were subsets of the Harm set\n",
    "words = pd.read_csv('data/harm/labels.csv', header=None)\n",
    "words = words[0].tolist()\n",
    "\n",
    "# inputs and outputs\n",
    "X = remove_cols(np.genfromtxt('data/harm/orth.csv', delimiter=\",\"))\n",
    "Y = remove_cols(np.genfromtxt('data/harm/phon.csv', delimiter=\",\"))"
   ]
  },
  {
   "cell_type": "code",
   "execution_count": null,
   "metadata": {},
   "outputs": [],
   "source": [
    "easy_900 = pd.read_csv('data/harm/easy_900.csv', header=None)[0].tolist()\n",
    "sample = np.full(len(words), False, dtype=bool)\n",
    "\n",
    "indices = [i for i, e in enumerate(words) if e in easy_900]\n",
    "# Set chosen indices to True because they select the test items not the train items\n",
    "sample[indices] = True"
   ]
  },
  {
   "cell_type": "code",
   "execution_count": null,
   "metadata": {},
   "outputs": [],
   "source": [
    "model = learner(X, Y, seed=seed, hidden=100, optimizer=Adam(learning_rate=.075))    \n",
    "\n",
    "start_time = time.time()\n",
    "\n",
    "\n",
    "model.fit(X[sample], Y[sample], epochs=50, batch_size=256, verbose=True)\n",
    "\n",
    "end_time = time.time()\n",
    "runtime = end_time - start_time"
   ]
  },
  {
   "cell_type": "code",
   "execution_count": null,
   "metadata": {},
   "outputs": [],
   "source": [
    "seed = 387\n",
    "\n",
    "with open('outputs/tune_1_harm_2.csv', 'w') as f:\n",
    "    f.write(\"{},{},{},{},{},{},{},{},{},{},{}\\n\".format(\n",
    "                                            \"hidden_units\",\n",
    "                                            \"learning_rate\",\n",
    "                                             \"batch_size\",\n",
    "                                             \"epochs\",\n",
    "                                             \"loss_train\",\n",
    "                                             \"accuracy_train\",\n",
    "                                             \"mse_train\",\n",
    "                                             \"loss_test\",\n",
    "                                             \"accuracy_test\",\n",
    "                                             \"mse_test\",\n",
    "                                             \"time\"))\n",
    "    for learning_rate in [.1, .2, .3, .4, .5, .6, .7, .8, .9]: \n",
    "        for batch_size in [256, 384, 512]:\n",
    "            for epochs in [50, 100, 150, 250, 500, 100]:\n",
    "                for hidden in [100, 150, 200]:\n",
    "\n",
    "                    model = learner(X, Y, seed=seed, hidden=hidden, optimizer=Adam(learning_rate=learning_rate))    \n",
    "                    \n",
    "                    start_time = time.time()\n",
    "\n",
    "\n",
    "                    model.fit(X, Y, epochs=epochs, batch_size=batch_size, verbose=False)\n",
    "\n",
    "                    end_time = time.time()\n",
    "                    runtime = end_time - start_time\n",
    "\n",
    "                    loss_train, accuracy_train, mse_train = model.evaluate(X, Y, verbose=0) \n",
    "                    loss_test, accuracy_test, mse_test = model.evaluate(X, Y, verbose=0) \n",
    "\n",
    "                    f.write(\"{},{},{},{},{},{},{},{},{},{},{}\\n\".format(\n",
    "                                                    hidden,\n",
    "                                                    learning_rate,\n",
    "                                                    batch_size,\n",
    "                                                    epochs,\n",
    "                                                    loss_train,\n",
    "                                                    accuracy_train,\n",
    "                                                    mse_train,\n",
    "                                                    loss_test,\n",
    "                                                    accuracy_test,\n",
    "                                                    mse_test,\n",
    "                                                    runtime))\n",
    "f.close()"
   ]
  }
 ],
 "metadata": {
  "language_info": {
   "name": "python"
  }
 },
 "nbformat": 4,
 "nbformat_minor": 2
}
