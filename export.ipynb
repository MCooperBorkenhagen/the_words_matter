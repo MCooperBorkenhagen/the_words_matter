{
 "cells": [
  {
   "cell_type": "code",
   "execution_count": 1,
   "metadata": {},
   "outputs": [],
   "source": [
    "import os\n",
    "import numpy as np\n",
    "import pandas as pd\n",
    "\n",
    "\n",
    "# Set the print options\n",
    "np.set_printoptions(suppress=True)\n"
   ]
  },
  {
   "cell_type": "code",
   "execution_count": 2,
   "metadata": {},
   "outputs": [],
   "source": [
    "samples = np.genfromtxt('data/samples.csv', delimiter=\",\").astype(bool)\n",
    "holdouts = np.genfromtxt('data/holdouts.csv', delimiter=\",\").astype(bool)\n",
    "tests = np.genfromtxt('data/tests.csv', delimiter=\",\").astype(bool)"
   ]
  },
  {
   "cell_type": "markdown",
   "metadata": {},
   "source": [
    "Extract the accuracy data for each sample and write to file. This takes a minute because it requires iterating through all the written accuracy files. Note that the accuracy summary datafile writes the accuracies out in a random order over rows, so you might need to arrange the rows if you want them to be in an orderly fashion."
   ]
  },
  {
   "cell_type": "code",
   "execution_count": 3,
   "metadata": {},
   "outputs": [],
   "source": [
    "# Specify the directory\n",
    "directory = 'outputs/brute_force_2/'\n",
    "\n",
    "# Prepare an empty list to store the results\n",
    "results = []\n",
    "\n",
    "# Specify the indices\n",
    "\n",
    "# Iterate over every file in the specified directory\n",
    "for filename in os.listdir(directory):\n",
    "    if filename.endswith(\"accuracies.csv\"):\n",
    "        # Extract the ID and level from the filename\n",
    "        id_start = filename.find(\"sample_\") + len(\"sample_\")\n",
    "        id_end = filename.find(\"hidden\")\n",
    "        ID = int(filename[id_start:id_end].replace(\"_\", \"\"))\n",
    "\n",
    "        level_start = filename.find(\"hidden_\") + len(\"hidden_\")\n",
    "        level_end = filename.find(\"accuracies\")\n",
    "        level = int(filename[level_start:level_end].replace(\"_\", \"\"))\n",
    "\n",
    "        # Read the csv file\n",
    "        data = np.genfromtxt(os.path.join(directory, filename), delimiter=',')\n",
    "\n",
    "        # Tabulate the number of values equal to one and less than one\n",
    "        equal_to_one = np.sum(data == 1)\n",
    "        less_than_one = np.sum(data < 1)\n",
    "\n",
    "        # Tabulate the values for each set of indices\n",
    "        # if you want to determine\n",
    "        train = np.sum(data[samples[:,ID]] == 1)/sum(samples[:,ID])\n",
    "        test = np.sum(data[tests[:,ID]] == 1)/sum(tests[:,ID])\n",
    "        holdout = np.sum(data[holdouts[:,ID]] == 1)/sum(holdouts[:,ID])\n",
    "\n",
    "        # Save the results\n",
    "        results.append([ID, level, train, test, holdout])\n",
    "\n",
    "# Convert the results to a numpy array and write to a csv file\n",
    "results_array = np.array(results)\n",
    "\n",
    "\n",
    "pd.DataFrame(results_array).to_csv('outputs/brute_force_2/tabulated_accuracy.csv', index = False, header = [\"model_id\", \"hidden\", \"train\", \"test\", \"holdout\"])\n"
   ]
  },
  {
   "cell_type": "markdown",
   "metadata": {},
   "source": [
    "Generate a random sample of 200 model IDs to make the subset data for the LMEM (which DK is running)"
   ]
  },
  {
   "cell_type": "code",
   "execution_count": 4,
   "metadata": {},
   "outputs": [],
   "source": [
    "import random\n",
    "random.seed(345)\n",
    "\n",
    "IDs = [d[0] for d in results_array]\n",
    "\n",
    "subset_models = random.sample(IDs, 200)\n",
    "subset_IDs = [str(int(ID)).zfill(4) for ID in subset_models]"
   ]
  },
  {
   "cell_type": "code",
   "execution_count": 5,
   "metadata": {},
   "outputs": [],
   "source": [
    "numbers = [str(i) for i in range(10000)]\n",
    "subset = random.sample(numbers, 200)\n",
    "\n",
    "\n",
    "filenames = []\n",
    "for filename in os.listdir(directory):\n",
    "    for ID in subset:\n",
    "        if filename.startswith(\"sample_\"+ID+\"_\"):\n",
    "            if \"accuracies\" in filename:\n",
    "              if \"hidden_20\" in filename or \"hidden_100\" in filename:\n",
    "                  filenames.append(filename)  "
   ]
  },
  {
   "cell_type": "code",
   "execution_count": 9,
   "metadata": {},
   "outputs": [],
   "source": [
    "import pandas as pd\n",
    "words = pd.read_csv('data/kidwords/kidwords.csv', names = [\"word\"])"
   ]
  },
  {
   "cell_type": "code",
   "execution_count": 11,
   "metadata": {},
   "outputs": [
    {
     "data": {
      "text/plain": [
       "1"
      ]
     },
     "execution_count": 11,
     "metadata": {},
     "output_type": "execute_result"
    }
   ],
   "source": [
    "tmp = int(ID)\n",
    "\n",
    "samples[:,tmp]."
   ]
  },
  {
   "cell_type": "code",
   "execution_count": 13,
   "metadata": {},
   "outputs": [
    {
     "data": {
      "text/plain": [
       "(2869, 10000)"
      ]
     },
     "execution_count": 13,
     "metadata": {},
     "output_type": "execute_result"
    }
   ],
   "source": [
    "tests.shape"
   ]
  },
  {
   "cell_type": "code",
   "execution_count": 14,
   "metadata": {},
   "outputs": [],
   "source": [
    "import pandas as pd\n",
    "\n",
    "dfs = []\n",
    "\n",
    "for filename in filenames:\n",
    "\n",
    "    id_start = filename.find(\"sample_\") + len(\"sample_\")\n",
    "    id_end = filename.find(\"hidden\")\n",
    "    ID = int(filename[id_start:id_end].replace(\"_\", \"\"))\n",
    "\n",
    "    level_start = filename.find(\"hidden_\") + len(\"hidden_\")\n",
    "    level_end = filename.find(\"accuracies\")\n",
    "    level = int(filename[level_start:level_end].replace(\"_\", \"\"))\n",
    "\n",
    "    one_file = pd.read_csv(f'outputs/brute_force_2/{filename}', names = [\"mse\"])\n",
    "    one_file['word'] = words['word']\n",
    "    one_file['model_id'] = ID\n",
    "    one_file['hidden'] = level\n",
    "    one_file['train'] = samples[:,ID]\n",
    "    one_file['test'] = tests[:,ID]\n",
    "    one_file['holdout'] = holdouts[:,ID]\n",
    "    dfs.append(one_file)\n",
    "\n",
    "df = pd.concat(dfs, ignore_index=True)\n",
    "\n",
    "df['accuracy'] = df['mse'].apply(lambda x: 0 if x < 1 else 1)"
   ]
  },
  {
   "cell_type": "code",
   "execution_count": 17,
   "metadata": {},
   "outputs": [],
   "source": [
    "df.to_csv('outputs/brute_force_2/subset_data_for_lmem.csv', index=False)"
   ]
  }
 ],
 "metadata": {
  "kernelspec": {
   "display_name": "p39",
   "language": "python",
   "name": "python3"
  },
  "language_info": {
   "codemirror_mode": {
    "name": "ipython",
    "version": 3
   },
   "file_extension": ".py",
   "mimetype": "text/x-python",
   "name": "python",
   "nbconvert_exporter": "python",
   "pygments_lexer": "ipython3",
   "version": "3.9.18"
  }
 },
 "nbformat": 4,
 "nbformat_minor": 2
}
